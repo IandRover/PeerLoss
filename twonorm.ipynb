{
 "cells": [
  {
   "cell_type": "markdown",
   "metadata": {},
   "source": [
    "# Twonorm dataset"
   ]
  },
  {
   "cell_type": "markdown",
   "metadata": {},
   "source": [
    "## Describe\n",
    "\n",
    "| Total | Positive | Attributes | Normalized |\n",
    "|:-----:|:--------:|:----------:|:----------:|\n",
    "| 7400  |  50.0%   |     20     |     Yes    |"
   ]
  },
  {
   "cell_type": "code",
   "execution_count": 4,
   "metadata": {},
   "outputs": [
    {
     "data": {
      "text/plain": [
       "count    7400.000000\n",
       "mean        0.500405\n",
       "std         0.500034\n",
       "min         0.000000\n",
       "25%         0.000000\n",
       "50%         1.000000\n",
       "75%         1.000000\n",
       "max         1.000000\n",
       "Name: target, dtype: float64"
      ]
     },
     "execution_count": 4,
     "metadata": {},
     "output_type": "execute_result"
    }
   ],
   "source": [
    "from utils.dataloader import DataLoader\n",
    "\n",
    "df = DataLoader('twonorm').df\n",
    "df.target.describe()"
   ]
  },
  {
   "cell_type": "code",
   "execution_count": 3,
   "metadata": {
    "scrolled": true
   },
   "outputs": [
    {
     "data": {
      "text/html": [
       "<div>\n",
       "<style scoped>\n",
       "    .dataframe tbody tr th:only-of-type {\n",
       "        vertical-align: middle;\n",
       "    }\n",
       "\n",
       "    .dataframe tbody tr th {\n",
       "        vertical-align: top;\n",
       "    }\n",
       "\n",
       "    .dataframe thead th {\n",
       "        text-align: right;\n",
       "    }\n",
       "</style>\n",
       "<table border=\"1\" class=\"dataframe\">\n",
       "  <thead>\n",
       "    <tr style=\"text-align: right;\">\n",
       "      <th></th>\n",
       "      <th>target</th>\n",
       "      <th>1</th>\n",
       "      <th>2</th>\n",
       "      <th>3</th>\n",
       "      <th>4</th>\n",
       "      <th>5</th>\n",
       "      <th>6</th>\n",
       "      <th>7</th>\n",
       "      <th>8</th>\n",
       "      <th>9</th>\n",
       "      <th>10</th>\n",
       "      <th>11</th>\n",
       "      <th>12</th>\n",
       "      <th>13</th>\n",
       "      <th>14</th>\n",
       "      <th>15</th>\n",
       "      <th>16</th>\n",
       "      <th>17</th>\n",
       "      <th>18</th>\n",
       "      <th>19</th>\n",
       "      <th>20</th>\n",
       "    </tr>\n",
       "  </thead>\n",
       "  <tbody>\n",
       "    <tr>\n",
       "      <th>count</th>\n",
       "      <td>7400.000000</td>\n",
       "      <td>7.400000e+03</td>\n",
       "      <td>7.400000e+03</td>\n",
       "      <td>7.400000e+03</td>\n",
       "      <td>7.400000e+03</td>\n",
       "      <td>7.400000e+03</td>\n",
       "      <td>7.400000e+03</td>\n",
       "      <td>7.400000e+03</td>\n",
       "      <td>7.400000e+03</td>\n",
       "      <td>7.400000e+03</td>\n",
       "      <td>7.400000e+03</td>\n",
       "      <td>7.400000e+03</td>\n",
       "      <td>7.400000e+03</td>\n",
       "      <td>7.400000e+03</td>\n",
       "      <td>7.400000e+03</td>\n",
       "      <td>7.400000e+03</td>\n",
       "      <td>7.400000e+03</td>\n",
       "      <td>7.400000e+03</td>\n",
       "      <td>7.400000e+03</td>\n",
       "      <td>7.400000e+03</td>\n",
       "      <td>7.400000e+03</td>\n",
       "    </tr>\n",
       "    <tr>\n",
       "      <th>mean</th>\n",
       "      <td>0.500405</td>\n",
       "      <td>1.916591e-10</td>\n",
       "      <td>1.863119e-10</td>\n",
       "      <td>1.786203e-10</td>\n",
       "      <td>-2.969743e-11</td>\n",
       "      <td>3.921324e-11</td>\n",
       "      <td>-1.130216e-10</td>\n",
       "      <td>2.616218e-10</td>\n",
       "      <td>5.806761e-12</td>\n",
       "      <td>-6.216216e-11</td>\n",
       "      <td>-5.117027e-11</td>\n",
       "      <td>1.165223e-10</td>\n",
       "      <td>2.884878e-10</td>\n",
       "      <td>1.067514e-10</td>\n",
       "      <td>1.505392e-10</td>\n",
       "      <td>7.413121e-11</td>\n",
       "      <td>-4.146621e-11</td>\n",
       "      <td>1.516855e-10</td>\n",
       "      <td>4.836216e-11</td>\n",
       "      <td>1.911892e-11</td>\n",
       "      <td>-1.645135e-11</td>\n",
       "    </tr>\n",
       "    <tr>\n",
       "      <th>std</th>\n",
       "      <td>0.500034</td>\n",
       "      <td>1.000000e+00</td>\n",
       "      <td>1.000000e+00</td>\n",
       "      <td>1.000000e+00</td>\n",
       "      <td>1.000000e+00</td>\n",
       "      <td>1.000000e+00</td>\n",
       "      <td>1.000000e+00</td>\n",
       "      <td>1.000000e+00</td>\n",
       "      <td>1.000000e+00</td>\n",
       "      <td>1.000000e+00</td>\n",
       "      <td>1.000000e+00</td>\n",
       "      <td>1.000000e+00</td>\n",
       "      <td>1.000000e+00</td>\n",
       "      <td>1.000000e+00</td>\n",
       "      <td>1.000000e+00</td>\n",
       "      <td>1.000000e+00</td>\n",
       "      <td>1.000000e+00</td>\n",
       "      <td>1.000000e+00</td>\n",
       "      <td>1.000000e+00</td>\n",
       "      <td>1.000000e+00</td>\n",
       "      <td>1.000000e+00</td>\n",
       "    </tr>\n",
       "    <tr>\n",
       "      <th>min</th>\n",
       "      <td>0.000000</td>\n",
       "      <td>-3.928187e+00</td>\n",
       "      <td>-3.591693e+00</td>\n",
       "      <td>-4.103058e+00</td>\n",
       "      <td>-3.589126e+00</td>\n",
       "      <td>-3.575096e+00</td>\n",
       "      <td>-3.670894e+00</td>\n",
       "      <td>-3.376081e+00</td>\n",
       "      <td>-4.177900e+00</td>\n",
       "      <td>-3.492583e+00</td>\n",
       "      <td>-3.833598e+00</td>\n",
       "      <td>-3.547219e+00</td>\n",
       "      <td>-3.554804e+00</td>\n",
       "      <td>-3.667680e+00</td>\n",
       "      <td>-3.502837e+00</td>\n",
       "      <td>-3.402024e+00</td>\n",
       "      <td>-3.411150e+00</td>\n",
       "      <td>-3.614614e+00</td>\n",
       "      <td>-3.675060e+00</td>\n",
       "      <td>-3.780694e+00</td>\n",
       "      <td>-3.473455e+00</td>\n",
       "    </tr>\n",
       "    <tr>\n",
       "      <th>25%</th>\n",
       "      <td>0.000000</td>\n",
       "      <td>-6.746896e-01</td>\n",
       "      <td>-6.627729e-01</td>\n",
       "      <td>-6.734798e-01</td>\n",
       "      <td>-6.894569e-01</td>\n",
       "      <td>-6.681269e-01</td>\n",
       "      <td>-6.850844e-01</td>\n",
       "      <td>-6.749417e-01</td>\n",
       "      <td>-6.865172e-01</td>\n",
       "      <td>-6.682609e-01</td>\n",
       "      <td>-6.732580e-01</td>\n",
       "      <td>-6.897575e-01</td>\n",
       "      <td>-6.804329e-01</td>\n",
       "      <td>-6.944806e-01</td>\n",
       "      <td>-6.889761e-01</td>\n",
       "      <td>-6.811896e-01</td>\n",
       "      <td>-6.763318e-01</td>\n",
       "      <td>-6.736975e-01</td>\n",
       "      <td>-6.801288e-01</td>\n",
       "      <td>-6.773400e-01</td>\n",
       "      <td>-6.703903e-01</td>\n",
       "    </tr>\n",
       "    <tr>\n",
       "      <th>50%</th>\n",
       "      <td>1.000000</td>\n",
       "      <td>-1.708754e-02</td>\n",
       "      <td>-5.252085e-03</td>\n",
       "      <td>5.072374e-03</td>\n",
       "      <td>-3.996826e-03</td>\n",
       "      <td>-1.079068e-02</td>\n",
       "      <td>5.996879e-03</td>\n",
       "      <td>-8.057782e-03</td>\n",
       "      <td>-3.507777e-03</td>\n",
       "      <td>2.648498e-03</td>\n",
       "      <td>-7.847217e-03</td>\n",
       "      <td>-5.065350e-03</td>\n",
       "      <td>-2.325488e-03</td>\n",
       "      <td>4.042557e-03</td>\n",
       "      <td>1.495736e-03</td>\n",
       "      <td>6.871072e-03</td>\n",
       "      <td>-1.006018e-02</td>\n",
       "      <td>3.745198e-03</td>\n",
       "      <td>-1.204065e-02</td>\n",
       "      <td>1.504348e-02</td>\n",
       "      <td>-1.732517e-02</td>\n",
       "    </tr>\n",
       "    <tr>\n",
       "      <th>75%</th>\n",
       "      <td>1.000000</td>\n",
       "      <td>6.819031e-01</td>\n",
       "      <td>6.903358e-01</td>\n",
       "      <td>6.653077e-01</td>\n",
       "      <td>6.901152e-01</td>\n",
       "      <td>6.766908e-01</td>\n",
       "      <td>6.873729e-01</td>\n",
       "      <td>6.769585e-01</td>\n",
       "      <td>6.888042e-01</td>\n",
       "      <td>6.797451e-01</td>\n",
       "      <td>6.848599e-01</td>\n",
       "      <td>6.917726e-01</td>\n",
       "      <td>6.837956e-01</td>\n",
       "      <td>6.679163e-01</td>\n",
       "      <td>6.972377e-01</td>\n",
       "      <td>6.693764e-01</td>\n",
       "      <td>6.846137e-01</td>\n",
       "      <td>6.707914e-01</td>\n",
       "      <td>6.814214e-01</td>\n",
       "      <td>6.682821e-01</td>\n",
       "      <td>6.800710e-01</td>\n",
       "    </tr>\n",
       "    <tr>\n",
       "      <th>max</th>\n",
       "      <td>1.000000</td>\n",
       "      <td>3.295562e+00</td>\n",
       "      <td>3.922819e+00</td>\n",
       "      <td>4.073900e+00</td>\n",
       "      <td>3.910459e+00</td>\n",
       "      <td>5.135025e+00</td>\n",
       "      <td>3.636212e+00</td>\n",
       "      <td>4.008221e+00</td>\n",
       "      <td>3.518793e+00</td>\n",
       "      <td>3.875047e+00</td>\n",
       "      <td>3.766064e+00</td>\n",
       "      <td>3.718186e+00</td>\n",
       "      <td>3.975945e+00</td>\n",
       "      <td>3.490845e+00</td>\n",
       "      <td>3.743891e+00</td>\n",
       "      <td>3.277228e+00</td>\n",
       "      <td>3.947955e+00</td>\n",
       "      <td>3.392056e+00</td>\n",
       "      <td>3.671151e+00</td>\n",
       "      <td>3.966259e+00</td>\n",
       "      <td>3.907062e+00</td>\n",
       "    </tr>\n",
       "  </tbody>\n",
       "</table>\n",
       "</div>"
      ],
      "text/plain": [
       "            target             1  ...            19            20\n",
       "count  7400.000000  7.400000e+03  ...  7.400000e+03  7.400000e+03\n",
       "mean      0.500405  1.916591e-10  ...  1.911892e-11 -1.645135e-11\n",
       "std       0.500034  1.000000e+00  ...  1.000000e+00  1.000000e+00\n",
       "min       0.000000 -3.928187e+00  ... -3.780694e+00 -3.473455e+00\n",
       "25%       0.000000 -6.746896e-01  ... -6.773400e-01 -6.703903e-01\n",
       "50%       1.000000 -1.708754e-02  ...  1.504348e-02 -1.732517e-02\n",
       "75%       1.000000  6.819031e-01  ...  6.682821e-01  6.800710e-01\n",
       "max       1.000000  3.295562e+00  ...  3.966259e+00  3.907062e+00\n",
       "\n",
       "[8 rows x 21 columns]"
      ]
     },
     "execution_count": 3,
     "metadata": {},
     "output_type": "execute_result"
    }
   ],
   "source": [
    "df.describe()"
   ]
  },
  {
   "cell_type": "markdown",
   "metadata": {},
   "source": [
    "## With prior equalization"
   ]
  },
  {
   "cell_type": "code",
   "execution_count": 13,
   "metadata": {
    "pycharm": {
     "is_executing": false
    }
   },
   "outputs": [],
   "source": [
    "from runner import run\n",
    "\n",
    "args = {\n",
    "    'dataset': 'twonorm', \n",
    "    'lr': 0.001, \n",
    "    'hidsize': 16, \n",
    "    'episodes': 20, \n",
    "    'batchsize': 128, \n",
    "    'test_size': 0.5,\n",
    "    'dropout': 0.5,\n",
    "    'normalize': False,\n",
    "    'equalize_prior': False,\n",
    "}"
   ]
  },
  {
   "cell_type": "markdown",
   "metadata": {},
   "source": [
    "$e_0 = 0, e_1 = 0$"
   ]
  },
  {
   "cell_type": "code",
   "execution_count": 10,
   "metadata": {
    "scrolled": true
   },
   "outputs": [
    {
     "name": "stdout",
     "output_type": "stream",
     "text": [
      "{'dataset': 'twonorm', 'lr': 0.001, 'hidsize': 16, 'episodes': 100, 'batchsize': 128, 'test_size': 0.5, 'dropout': 0.5, 'normalize': False, 'equalize_prior': False, 'e0': 0, 'e1': 0}\n"
     ]
    },
    {
     "data": {
      "image/png": "[encoded data removed]",
      "text/plain": [
       "<Figure size 432x288 with 1 Axes>"
      ]
     },
     "metadata": {
      "needs_background": "light"
     },
     "output_type": "display_data"
    },
    {
     "name": "stdout",
     "output_type": "stream",
     "text": [
      "--------------------------------------\n",
      "| knn                     | 0.971    |\n",
      "| logistic regression     | 0.979    |\n",
      "| nn                      | 0.978    |\n",
      "| nn with peer prediction | 0.977    |\n",
      "| random forest           | 0.971    |\n",
      "| svm                     | 0.978    |\n",
      "--------------------------------------\n"
     ]
    },
    {
     "name": "stderr",
     "output_type": "stream",
     "text": [
      "Process ForkPoolWorker-51:\n",
      "Process ForkPoolWorker-52:\n",
      "Process ForkPoolWorker-54:\n",
      "Process ForkPoolWorker-50:\n",
      "Process ForkPoolWorker-49:\n",
      "Process ForkPoolWorker-56:\n",
      "Process ForkPoolWorker-53:\n",
      "Traceback (most recent call last):\n",
      "Traceback (most recent call last):\n",
      "Traceback (most recent call last):\n",
      "Process ForkPoolWorker-55:\n",
      "Traceback (most recent call last):\n",
      "Traceback (most recent call last):\n",
      "  File \"/Users/henryguo/anaconda3/envs/py36/lib/python3.6/multiprocessing/process.py\", line 258, in _bootstrap\n",
      "    self.run()\n",
      "  File \"/Users/henryguo/anaconda3/envs/py36/lib/python3.6/multiprocessing/process.py\", line 258, in _bootstrap\n",
      "    self.run()\n",
      "Traceback (most recent call last):\n",
      "Traceback (most recent call last):\n",
      "  File \"/Users/henryguo/anaconda3/envs/py36/lib/python3.6/multiprocessing/process.py\", line 258, in _bootstrap\n",
      "    self.run()\n",
      "Traceback (most recent call last):\n",
      "  File \"/Users/henryguo/anaconda3/envs/py36/lib/python3.6/multiprocessing/process.py\", line 258, in _bootstrap\n",
      "    self.run()\n",
      "  File \"/Users/henryguo/anaconda3/envs/py36/lib/python3.6/multiprocessing/process.py\", line 258, in _bootstrap\n",
      "    self.run()\n",
      "  File \"/Users/henryguo/anaconda3/envs/py36/lib/python3.6/multiprocessing/process.py\", line 93, in run\n",
      "    self._target(*self._args, **self._kwargs)\n",
      "  File \"/Users/henryguo/anaconda3/envs/py36/lib/python3.6/multiprocessing/process.py\", line 93, in run\n",
      "    self._target(*self._args, **self._kwargs)\n",
      "  File \"/Users/henryguo/anaconda3/envs/py36/lib/python3.6/multiprocessing/process.py\", line 258, in _bootstrap\n",
      "    self.run()\n",
      "  File \"/Users/henryguo/anaconda3/envs/py36/lib/python3.6/multiprocessing/process.py\", line 258, in _bootstrap\n",
      "    self.run()\n",
      "  File \"/Users/henryguo/anaconda3/envs/py36/lib/python3.6/multiprocessing/process.py\", line 93, in run\n",
      "    self._target(*self._args, **self._kwargs)\n",
      "  File \"/Users/henryguo/anaconda3/envs/py36/lib/python3.6/multiprocessing/process.py\", line 258, in _bootstrap\n",
      "    self.run()\n",
      "  File \"/Users/henryguo/anaconda3/envs/py36/lib/python3.6/multiprocessing/process.py\", line 93, in run\n",
      "    self._target(*self._args, **self._kwargs)\n",
      "  File \"/Users/henryguo/anaconda3/envs/py36/lib/python3.6/multiprocessing/process.py\", line 93, in run\n",
      "    self._target(*self._args, **self._kwargs)\n",
      "  File \"/Users/henryguo/anaconda3/envs/py36/lib/python3.6/multiprocessing/process.py\", line 93, in run\n",
      "    self._target(*self._args, **self._kwargs)\n",
      "  File \"/Users/henryguo/anaconda3/envs/py36/lib/python3.6/multiprocessing/process.py\", line 93, in run\n",
      "    self._target(*self._args, **self._kwargs)\n",
      "  File \"/Users/henryguo/anaconda3/envs/py36/lib/python3.6/multiprocessing/pool.py\", line 108, in worker\n",
      "    task = get()\n",
      "  File \"/Users/henryguo/anaconda3/envs/py36/lib/python3.6/multiprocessing/pool.py\", line 108, in worker\n",
      "    task = get()\n",
      "  File \"/Users/henryguo/anaconda3/envs/py36/lib/python3.6/multiprocessing/pool.py\", line 108, in worker\n",
      "    task = get()\n",
      "  File \"/Users/henryguo/anaconda3/envs/py36/lib/python3.6/multiprocessing/pool.py\", line 108, in worker\n",
      "    task = get()\n",
      "  File \"/Users/henryguo/anaconda3/envs/py36/lib/python3.6/multiprocessing/process.py\", line 93, in run\n",
      "    self._target(*self._args, **self._kwargs)\n",
      "  File \"/Users/henryguo/anaconda3/envs/py36/lib/python3.6/multiprocessing/pool.py\", line 108, in worker\n",
      "    task = get()\n",
      "  File \"/Users/henryguo/anaconda3/envs/py36/lib/python3.6/multiprocessing/pool.py\", line 108, in worker\n",
      "    task = get()\n",
      "  File \"/Users/henryguo/anaconda3/envs/py36/lib/python3.6/multiprocessing/queues.py\", line 334, in get\n",
      "    with self._rlock:\n",
      "  File \"/Users/henryguo/anaconda3/envs/py36/lib/python3.6/multiprocessing/queues.py\", line 334, in get\n",
      "    with self._rlock:\n",
      "  File \"/Users/henryguo/anaconda3/envs/py36/lib/python3.6/multiprocessing/queues.py\", line 334, in get\n",
      "    with self._rlock:\n",
      "  File \"/Users/henryguo/anaconda3/envs/py36/lib/python3.6/multiprocessing/pool.py\", line 108, in worker\n",
      "    task = get()\n",
      "  File \"/Users/henryguo/anaconda3/envs/py36/lib/python3.6/multiprocessing/pool.py\", line 108, in worker\n",
      "    task = get()\n",
      "  File \"/Users/henryguo/anaconda3/envs/py36/lib/python3.6/multiprocessing/queues.py\", line 335, in get\n",
      "    res = self._reader.recv_bytes()\n",
      "  File \"/Users/henryguo/anaconda3/envs/py36/lib/python3.6/multiprocessing/queues.py\", line 334, in get\n",
      "    with self._rlock:\n",
      "  File \"/Users/henryguo/anaconda3/envs/py36/lib/python3.6/multiprocessing/queues.py\", line 334, in get\n",
      "    with self._rlock:\n",
      "  File \"/Users/henryguo/anaconda3/envs/py36/lib/python3.6/multiprocessing/synchronize.py\", line 95, in __enter__\n",
      "    return self._semlock.__enter__()\n",
      "  File \"/Users/henryguo/anaconda3/envs/py36/lib/python3.6/multiprocessing/synchronize.py\", line 95, in __enter__\n",
      "    return self._semlock.__enter__()\n",
      "  File \"/Users/henryguo/anaconda3/envs/py36/lib/python3.6/multiprocessing/synchronize.py\", line 95, in __enter__\n",
      "    return self._semlock.__enter__()\n",
      "  File \"/Users/henryguo/anaconda3/envs/py36/lib/python3.6/multiprocessing/queues.py\", line 334, in get\n",
      "    with self._rlock:\n",
      "  File \"/Users/henryguo/anaconda3/envs/py36/lib/python3.6/multiprocessing/connection.py\", line 216, in recv_bytes\n",
      "    buf = self._recv_bytes(maxlength)\n",
      "  File \"/Users/henryguo/anaconda3/envs/py36/lib/python3.6/multiprocessing/queues.py\", line 334, in get\n",
      "    with self._rlock:\n",
      "  File \"/Users/henryguo/anaconda3/envs/py36/lib/python3.6/multiprocessing/synchronize.py\", line 95, in __enter__\n",
      "    return self._semlock.__enter__()\n",
      "  File \"/Users/henryguo/anaconda3/envs/py36/lib/python3.6/multiprocessing/synchronize.py\", line 95, in __enter__\n",
      "    return self._semlock.__enter__()\n",
      "  File \"/Users/henryguo/anaconda3/envs/py36/lib/python3.6/multiprocessing/synchronize.py\", line 95, in __enter__\n",
      "    return self._semlock.__enter__()\n",
      "KeyboardInterrupt\n",
      "KeyboardInterrupt\n",
      "KeyboardInterrupt\n",
      "KeyboardInterrupt\n",
      "  File \"/Users/henryguo/anaconda3/envs/py36/lib/python3.6/multiprocessing/synchronize.py\", line 95, in __enter__\n",
      "    return self._semlock.__enter__()\n",
      "  File \"/Users/henryguo/anaconda3/envs/py36/lib/python3.6/multiprocessing/connection.py\", line 407, in _recv_bytes\n",
      "    buf = self._recv(4)\n",
      "KeyboardInterrupt\n",
      "KeyboardInterrupt\n",
      "KeyboardInterrupt\n",
      "  File \"/Users/henryguo/anaconda3/envs/py36/lib/python3.6/multiprocessing/connection.py\", line 379, in _recv\n",
      "    chunk = read(handle, remaining)\n",
      "KeyboardInterrupt\n"
     ]
    }
   ],
   "source": [
    "args.update({'e0': 0, 'e1': 0})\n",
    "run(args.copy())"
   ]
  },
  {
   "cell_type": "markdown",
   "metadata": {},
   "source": [
    "$e_0 = 0.2, e_1 = 0.2$"
   ]
  },
  {
   "cell_type": "code",
   "execution_count": 11,
   "metadata": {
    "scrolled": true
   },
   "outputs": [
    {
     "name": "stdout",
     "output_type": "stream",
     "text": [
      "{'dataset': 'twonorm', 'lr': 0.001, 'hidsize': 16, 'episodes': 100, 'batchsize': 128, 'test_size': 0.5, 'dropout': 0.5, 'normalize': False, 'equalize_prior': False, 'e0': 0.2, 'e1': 0.2}\n"
     ]
    },
    {
     "data": {
      "image/png": "[encoded data removed]",
      "text/plain": [
       "<Figure size 432x288 with 1 Axes>"
      ]
     },
     "metadata": {
      "needs_background": "light"
     },
     "output_type": "display_data"
    },
    {
     "name": "stdout",
     "output_type": "stream",
     "text": [
      "--------------------------------------\n",
      "| knn                     | 0.905    |\n",
      "| logistic regression     | 0.976    |\n",
      "| nn                      | 0.974    |\n",
      "| nn with peer prediction | 0.977    |\n",
      "| random forest           | 0.961    |\n",
      "| svm                     | 0.973    |\n",
      "--------------------------------------\n"
     ]
    },
    {
     "name": "stderr",
     "output_type": "stream",
     "text": [
      "Process ForkPoolWorker-64:\n",
      "Process ForkPoolWorker-63:\n",
      "Process ForkPoolWorker-59:\n",
      "Process ForkPoolWorker-58:\n",
      "Process ForkPoolWorker-57:\n",
      "Process ForkPoolWorker-61:\n",
      "Process ForkPoolWorker-60:\n",
      "Process ForkPoolWorker-62:\n",
      "Traceback (most recent call last):\n",
      "Traceback (most recent call last):\n",
      "Traceback (most recent call last):\n",
      "Traceback (most recent call last):\n",
      "Traceback (most recent call last):\n",
      "Traceback (most recent call last):\n",
      "Traceback (most recent call last):\n",
      "Traceback (most recent call last):\n",
      "  File \"/Users/henryguo/anaconda3/envs/py36/lib/python3.6/multiprocessing/process.py\", line 258, in _bootstrap\n",
      "    self.run()\n",
      "  File \"/Users/henryguo/anaconda3/envs/py36/lib/python3.6/multiprocessing/process.py\", line 258, in _bootstrap\n",
      "    self.run()\n",
      "  File \"/Users/henryguo/anaconda3/envs/py36/lib/python3.6/multiprocessing/process.py\", line 258, in _bootstrap\n",
      "    self.run()\n",
      "  File \"/Users/henryguo/anaconda3/envs/py36/lib/python3.6/multiprocessing/process.py\", line 258, in _bootstrap\n",
      "    self.run()\n",
      "  File \"/Users/henryguo/anaconda3/envs/py36/lib/python3.6/multiprocessing/process.py\", line 258, in _bootstrap\n",
      "    self.run()\n",
      "  File \"/Users/henryguo/anaconda3/envs/py36/lib/python3.6/multiprocessing/process.py\", line 258, in _bootstrap\n",
      "    self.run()\n",
      "  File \"/Users/henryguo/anaconda3/envs/py36/lib/python3.6/multiprocessing/process.py\", line 258, in _bootstrap\n",
      "    self.run()\n",
      "  File \"/Users/henryguo/anaconda3/envs/py36/lib/python3.6/multiprocessing/process.py\", line 258, in _bootstrap\n",
      "    self.run()\n",
      "  File \"/Users/henryguo/anaconda3/envs/py36/lib/python3.6/multiprocessing/process.py\", line 93, in run\n",
      "    self._target(*self._args, **self._kwargs)\n",
      "  File \"/Users/henryguo/anaconda3/envs/py36/lib/python3.6/multiprocessing/process.py\", line 93, in run\n",
      "    self._target(*self._args, **self._kwargs)\n",
      "  File \"/Users/henryguo/anaconda3/envs/py36/lib/python3.6/multiprocessing/process.py\", line 93, in run\n",
      "    self._target(*self._args, **self._kwargs)\n",
      "  File \"/Users/henryguo/anaconda3/envs/py36/lib/python3.6/multiprocessing/process.py\", line 93, in run\n",
      "    self._target(*self._args, **self._kwargs)\n",
      "  File \"/Users/henryguo/anaconda3/envs/py36/lib/python3.6/multiprocessing/process.py\", line 93, in run\n",
      "    self._target(*self._args, **self._kwargs)\n",
      "  File \"/Users/henryguo/anaconda3/envs/py36/lib/python3.6/multiprocessing/process.py\", line 93, in run\n",
      "    self._target(*self._args, **self._kwargs)\n",
      "  File \"/Users/henryguo/anaconda3/envs/py36/lib/python3.6/multiprocessing/process.py\", line 93, in run\n",
      "    self._target(*self._args, **self._kwargs)\n",
      "  File \"/Users/henryguo/anaconda3/envs/py36/lib/python3.6/multiprocessing/process.py\", line 93, in run\n",
      "    self._target(*self._args, **self._kwargs)\n",
      "  File \"/Users/henryguo/anaconda3/envs/py36/lib/python3.6/multiprocessing/pool.py\", line 108, in worker\n",
      "    task = get()\n",
      "  File \"/Users/henryguo/anaconda3/envs/py36/lib/python3.6/multiprocessing/pool.py\", line 108, in worker\n",
      "    task = get()\n",
      "  File \"/Users/henryguo/anaconda3/envs/py36/lib/python3.6/multiprocessing/pool.py\", line 108, in worker\n",
      "    task = get()\n",
      "  File \"/Users/henryguo/anaconda3/envs/py36/lib/python3.6/multiprocessing/pool.py\", line 108, in worker\n",
      "    task = get()\n",
      "  File \"/Users/henryguo/anaconda3/envs/py36/lib/python3.6/multiprocessing/pool.py\", line 108, in worker\n",
      "    task = get()\n",
      "  File \"/Users/henryguo/anaconda3/envs/py36/lib/python3.6/multiprocessing/pool.py\", line 108, in worker\n",
      "    task = get()\n",
      "  File \"/Users/henryguo/anaconda3/envs/py36/lib/python3.6/multiprocessing/pool.py\", line 108, in worker\n",
      "    task = get()\n",
      "  File \"/Users/henryguo/anaconda3/envs/py36/lib/python3.6/multiprocessing/queues.py\", line 334, in get\n",
      "    with self._rlock:\n",
      "  File \"/Users/henryguo/anaconda3/envs/py36/lib/python3.6/multiprocessing/pool.py\", line 108, in worker\n",
      "    task = get()\n",
      "  File \"/Users/henryguo/anaconda3/envs/py36/lib/python3.6/multiprocessing/queues.py\", line 334, in get\n",
      "    with self._rlock:\n",
      "  File \"/Users/henryguo/anaconda3/envs/py36/lib/python3.6/multiprocessing/queues.py\", line 335, in get\n",
      "    res = self._reader.recv_bytes()\n",
      "  File \"/Users/henryguo/anaconda3/envs/py36/lib/python3.6/multiprocessing/queues.py\", line 334, in get\n",
      "    with self._rlock:\n",
      "  File \"/Users/henryguo/anaconda3/envs/py36/lib/python3.6/multiprocessing/queues.py\", line 334, in get\n",
      "    with self._rlock:\n",
      "  File \"/Users/henryguo/anaconda3/envs/py36/lib/python3.6/multiprocessing/queues.py\", line 334, in get\n",
      "    with self._rlock:\n",
      "  File \"/Users/henryguo/anaconda3/envs/py36/lib/python3.6/multiprocessing/synchronize.py\", line 95, in __enter__\n",
      "    return self._semlock.__enter__()\n",
      "  File \"/Users/henryguo/anaconda3/envs/py36/lib/python3.6/multiprocessing/queues.py\", line 334, in get\n",
      "    with self._rlock:\n",
      "  File \"/Users/henryguo/anaconda3/envs/py36/lib/python3.6/multiprocessing/queues.py\", line 334, in get\n",
      "    with self._rlock:\n",
      "  File \"/Users/henryguo/anaconda3/envs/py36/lib/python3.6/multiprocessing/synchronize.py\", line 95, in __enter__\n",
      "    return self._semlock.__enter__()\n",
      "  File \"/Users/henryguo/anaconda3/envs/py36/lib/python3.6/multiprocessing/synchronize.py\", line 95, in __enter__\n",
      "    return self._semlock.__enter__()\n",
      "  File \"/Users/henryguo/anaconda3/envs/py36/lib/python3.6/multiprocessing/synchronize.py\", line 95, in __enter__\n",
      "    return self._semlock.__enter__()\n",
      "  File \"/Users/henryguo/anaconda3/envs/py36/lib/python3.6/multiprocessing/synchronize.py\", line 95, in __enter__\n",
      "    return self._semlock.__enter__()\n",
      "  File \"/Users/henryguo/anaconda3/envs/py36/lib/python3.6/multiprocessing/connection.py\", line 216, in recv_bytes\n",
      "    buf = self._recv_bytes(maxlength)\n",
      "KeyboardInterrupt\n",
      "  File \"/Users/henryguo/anaconda3/envs/py36/lib/python3.6/multiprocessing/synchronize.py\", line 95, in __enter__\n",
      "    return self._semlock.__enter__()\n",
      "  File \"/Users/henryguo/anaconda3/envs/py36/lib/python3.6/multiprocessing/synchronize.py\", line 95, in __enter__\n",
      "    return self._semlock.__enter__()\n",
      "KeyboardInterrupt\n",
      "KeyboardInterrupt\n",
      "KeyboardInterrupt\n",
      "KeyboardInterrupt\n",
      "  File \"/Users/henryguo/anaconda3/envs/py36/lib/python3.6/multiprocessing/connection.py\", line 407, in _recv_bytes\n",
      "    buf = self._recv(4)\n",
      "KeyboardInterrupt\n",
      "KeyboardInterrupt\n",
      "  File \"/Users/henryguo/anaconda3/envs/py36/lib/python3.6/multiprocessing/connection.py\", line 379, in _recv\n",
      "    chunk = read(handle, remaining)\n",
      "KeyboardInterrupt\n"
     ]
    }
   ],
   "source": [
    "args.update({'e0': 0.2, 'e1': 0.2})\n",
    "run(args.copy())"
   ]
  },
  {
   "cell_type": "markdown",
   "metadata": {},
   "source": [
    "$e_0 = 0.1, e_1 = 0.3$"
   ]
  },
  {
   "cell_type": "code",
   "execution_count": 14,
   "metadata": {
    "scrolled": false
   },
   "outputs": [
    {
     "name": "stdout",
     "output_type": "stream",
     "text": [
      "{'dataset': 'twonorm', 'lr': 0.001, 'hidsize': 16, 'episodes': 20, 'batchsize': 128, 'test_size': 0.5, 'dropout': 0.5, 'normalize': False, 'equalize_prior': False, 'e0': 0.1, 'e1': 0.3}\n"
     ]
    },
    {
     "data": {
      "image/png": "[encoded data removed]",
      "text/plain": [
       "<Figure size 432x288 with 1 Axes>"
      ]
     },
     "metadata": {
      "needs_background": "light"
     },
     "output_type": "display_data"
    },
    {
     "name": "stdout",
     "output_type": "stream",
     "text": [
      "--------------------------------------\n",
      "| knn                     | 0.877    |\n",
      "| logistic regression     | 0.923    |\n",
      "| nn                      | 0.962    |\n",
      "| nn with peer prediction | 0.976    |\n",
      "| random forest           | 0.914    |\n",
      "| svm                     | 0.963    |\n",
      "--------------------------------------\n"
     ]
    }
   ],
   "source": [
    "args.update({'e0': 0.1, 'e1': 0.3})\n",
    "run(args.copy())"
   ]
  },
  {
   "cell_type": "markdown",
   "metadata": {},
   "source": [
    "$e_0 = 0.2, e_1 = 0.4$"
   ]
  },
  {
   "cell_type": "code",
   "execution_count": 15,
   "metadata": {
    "scrolled": false
   },
   "outputs": [
    {
     "name": "stdout",
     "output_type": "stream",
     "text": [
      "{'dataset': 'twonorm', 'lr': 0.001, 'hidsize': 16, 'episodes': 20, 'batchsize': 128, 'test_size': 0.5, 'dropout': 0.5, 'normalize': False, 'equalize_prior': False, 'e0': 0.2, 'e1': 0.4}\n"
     ]
    },
    {
     "data": {
      "image/png": "[encoded data removed]",
      "text/plain": [
       "<Figure size 432x288 with 1 Axes>"
      ]
     },
     "metadata": {
      "needs_background": "light"
     },
     "output_type": "display_data"
    },
    {
     "name": "stdout",
     "output_type": "stream",
     "text": [
      "--------------------------------------\n",
      "| knn                     | 0.782    |\n",
      "| logistic regression     | 0.875    |\n",
      "| nn                      | 0.901    |\n",
      "| nn with peer prediction | 0.973    |\n",
      "| random forest           | 0.855    |\n",
      "| svm                     | 0.917    |\n",
      "--------------------------------------\n"
     ]
    }
   ],
   "source": [
    "args.update({'e0': 0.2, 'e1': 0.4})\n",
    "run(args.copy())"
   ]
  },
  {
   "cell_type": "markdown",
   "metadata": {},
   "source": [
    "$e_0 = 0.4, e_1 = 0.4$"
   ]
  },
  {
   "cell_type": "code",
   "execution_count": 16,
   "metadata": {
    "scrolled": false
   },
   "outputs": [
    {
     "name": "stdout",
     "output_type": "stream",
     "text": [
      "{'dataset': 'twonorm', 'lr': 0.001, 'hidsize': 16, 'episodes': 20, 'batchsize': 128, 'test_size': 0.5, 'dropout': 0.5, 'normalize': False, 'equalize_prior': False, 'e0': 0.4, 'e1': 0.4}\n"
     ]
    },
    {
     "data": {
      "image/png": "[encoded data removed]",
      "text/plain": [
       "<Figure size 432x288 with 1 Axes>"
      ]
     },
     "metadata": {
      "needs_background": "light"
     },
     "output_type": "display_data"
    },
    {
     "name": "stdout",
     "output_type": "stream",
     "text": [
      "--------------------------------------\n",
      "| knn                     | 0.667    |\n",
      "| logistic regression     | 0.95     |\n",
      "| nn                      | 0.939    |\n",
      "| nn with peer prediction | 0.95     |\n",
      "| random forest           | 0.849    |\n",
      "| svm                     | 0.912    |\n",
      "--------------------------------------\n"
     ]
    }
   ],
   "source": [
    "args.update({'e0': 0.4, 'e1': 0.4})\n",
    "run(args.copy())"
   ]
  },
  {
   "cell_type": "code",
   "execution_count": null,
   "metadata": {},
   "outputs": [],
   "source": []
  }
 ],
 "metadata": {
  "kernelspec": {
   "display_name": "PyCharm (learning-with-noisy-labels)",
   "language": "python",
   "name": "pycharm-72b00ad9"
  },
  "language_info": {
   "codemirror_mode": {
    "name": "ipython",
    "version": 3
   },
   "file_extension": ".py",
   "mimetype": "text/x-python",
   "name": "python",
   "nbconvert_exporter": "python",
   "pygments_lexer": "ipython3",
   "version": "3.6.8"
  }
 },
 "nbformat": 4,
 "nbformat_minor": 2
}
