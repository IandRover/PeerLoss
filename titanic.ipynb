{
 "cells": [
  {
   "cell_type": "markdown",
   "metadata": {},
   "source": [
    "# Titanic Dataset"
   ]
  },
  {
   "cell_type": "markdown",
   "metadata": {},
   "source": [
    "## Describe\n",
    "\n",
    "| Total | Positive | Attributes | Normalized |\n",
    "|:-----:|:--------:|:----------:|:----------:|\n",
    "|  2201 |  32.3%   |     3      |     Yes    |"
   ]
  },
  {
   "cell_type": "code",
   "execution_count": 4,
   "metadata": {},
   "outputs": [
    {
     "data": {
      "text/html": [
       "<div>\n",
       "<style scoped>\n",
       "    .dataframe tbody tr th:only-of-type {\n",
       "        vertical-align: middle;\n",
       "    }\n",
       "\n",
       "    .dataframe tbody tr th {\n",
       "        vertical-align: top;\n",
       "    }\n",
       "\n",
       "    .dataframe thead th {\n",
       "        text-align: right;\n",
       "    }\n",
       "</style>\n",
       "<table border=\"1\" class=\"dataframe\">\n",
       "  <thead>\n",
       "    <tr style=\"text-align: right;\">\n",
       "      <th></th>\n",
       "      <th>target</th>\n",
       "      <th>1</th>\n",
       "      <th>2</th>\n",
       "      <th>3</th>\n",
       "    </tr>\n",
       "  </thead>\n",
       "  <tbody>\n",
       "    <tr>\n",
       "      <th>count</th>\n",
       "      <td>2201.000000</td>\n",
       "      <td>2.201000e+03</td>\n",
       "      <td>2.201000e+03</td>\n",
       "      <td>2.201000e+03</td>\n",
       "    </tr>\n",
       "    <tr>\n",
       "      <th>mean</th>\n",
       "      <td>0.323035</td>\n",
       "      <td>5.245797e-09</td>\n",
       "      <td>6.542481e-09</td>\n",
       "      <td>2.180827e-09</td>\n",
       "    </tr>\n",
       "    <tr>\n",
       "      <th>std</th>\n",
       "      <td>0.467742</td>\n",
       "      <td>1.000000e+00</td>\n",
       "      <td>1.000000e+00</td>\n",
       "      <td>1.000000e+00</td>\n",
       "    </tr>\n",
       "    <tr>\n",
       "      <th>min</th>\n",
       "      <td>0.000000</td>\n",
       "      <td>-1.866515e+00</td>\n",
       "      <td>-2.282095e-01</td>\n",
       "      <td>-1.918673e+00</td>\n",
       "    </tr>\n",
       "    <tr>\n",
       "      <th>25%</th>\n",
       "      <td>0.000000</td>\n",
       "      <td>-9.225355e-01</td>\n",
       "      <td>-2.282095e-01</td>\n",
       "      <td>5.209568e-01</td>\n",
       "    </tr>\n",
       "    <tr>\n",
       "      <th>50%</th>\n",
       "      <td>0.000000</td>\n",
       "      <td>2.144434e-02</td>\n",
       "      <td>-2.282095e-01</td>\n",
       "      <td>5.209568e-01</td>\n",
       "    </tr>\n",
       "    <tr>\n",
       "      <th>75%</th>\n",
       "      <td>1.000000</td>\n",
       "      <td>9.654242e-01</td>\n",
       "      <td>-2.282095e-01</td>\n",
       "      <td>5.209568e-01</td>\n",
       "    </tr>\n",
       "    <tr>\n",
       "      <th>max</th>\n",
       "      <td>1.000000</td>\n",
       "      <td>9.654242e-01</td>\n",
       "      <td>4.379948e+00</td>\n",
       "      <td>5.209568e-01</td>\n",
       "    </tr>\n",
       "  </tbody>\n",
       "</table>\n",
       "</div>"
      ],
      "text/plain": [
       "            target             1             2             3\n",
       "count  2201.000000  2.201000e+03  2.201000e+03  2.201000e+03\n",
       "mean      0.323035  5.245797e-09  6.542481e-09  2.180827e-09\n",
       "std       0.467742  1.000000e+00  1.000000e+00  1.000000e+00\n",
       "min       0.000000 -1.866515e+00 -2.282095e-01 -1.918673e+00\n",
       "25%       0.000000 -9.225355e-01 -2.282095e-01  5.209568e-01\n",
       "50%       0.000000  2.144434e-02 -2.282095e-01  5.209568e-01\n",
       "75%       1.000000  9.654242e-01 -2.282095e-01  5.209568e-01\n",
       "max       1.000000  9.654242e-01  4.379948e+00  5.209568e-01"
      ]
     },
     "execution_count": 4,
     "metadata": {},
     "output_type": "execute_result"
    }
   ],
   "source": [
    "from utils.dataloader import DataLoader\n",
    "\n",
    "DataLoader('titanic').df.describe()"
   ]
  },
  {
   "cell_type": "code",
   "execution_count": null,
   "metadata": {},
   "outputs": [],
   "source": []
  }
 ],
 "metadata": {
  "kernelspec": {
   "display_name": "PyCharm (learning-with-noisy-labels)",
   "language": "python",
   "name": "pycharm-72b00ad9"
  },
  "language_info": {
   "codemirror_mode": {
    "name": "ipython",
    "version": 3
   },
   "file_extension": ".py",
   "mimetype": "text/x-python",
   "name": "python",
   "nbconvert_exporter": "python",
   "pygments_lexer": "ipython3",
   "version": "3.6.8"
  }
 },
 "nbformat": 4,
 "nbformat_minor": 2
}
