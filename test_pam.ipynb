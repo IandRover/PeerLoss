{
 "cells": [
  {
   "cell_type": "code",
   "execution_count": 1,
   "metadata": {
    "pycharm": {
     "is_executing": false
    }
   },
   "outputs": [],
   "source": [
    "from run import run_pam"
   ]
  },
  {
   "cell_type": "code",
   "execution_count": 3,
   "metadata": {
    "pycharm": {
     "is_executing": false,
     "name": "#%%\n"
    }
   },
   "outputs": [
    {
     "name": "stdout",
     "output_type": "stream",
     "text": [
      "margin:0.0\ttrain_acc:0.6827102803738317\n",
      "margin:0.1\ttrain_acc:0.7718691588785046\n",
      "margin:0.2\ttrain_acc:0.7910280373831775\n",
      "margin:0.3\ttrain_acc:0.7992056074766354\n",
      "margin:0.4\ttrain_acc:0.7962149532710281\n",
      "margin:0.5\ttrain_acc:0.798411214953271\n",
      "margin:0.0\ttest results:0.5972222222222222\n",
      "margin:0.1\ttest results:0.625\n",
      "margin:0.2\ttest results:0.625\n",
      "margin:0.3\ttest results:0.625\n",
      "margin:0.4\ttest results:0.6388888888888888\n",
      "margin:0.5\ttest results:0.625\n"
     ]
    },
    {
     "data": {
      "text/plain": [
       "0.6388888888888888"
      ]
     },
     "execution_count": 3,
     "metadata": {},
     "output_type": "execute_result"
    }
   ],
   "source": [
    "run_pam({'dataset': 'breast', 'seed': 0, 'e0': 0, 'e1': 0, 'lr': 0.001, 'test_size': 0.25, \n",
    "         'normalize': True, 'equalize_prior': False, 'verbose': True})"
   ]
  },
  {
   "cell_type": "code",
   "execution_count": 8,
   "metadata": {
    "pycharm": {
     "is_executing": false,
     "name": "#%%\n"
    }
   },
   "outputs": [
    {
     "name": "stdout",
     "output_type": "stream",
     "text": [
      "margin:0.0\ttrain_acc:0.6591588785046728\n",
      "margin:0.1\ttrain_acc:0.754252336448598\n",
      "margin:0.2\ttrain_acc:0.7675700934579437\n",
      "margin:0.3\ttrain_acc:0.7729439252336446\n",
      "margin:0.4\ttrain_acc:0.7694392523364485\n",
      "margin:0.5\ttrain_acc:0.7667289719626169\n",
      "margin:0.0\ttest results:0.5138888888888888\n",
      "margin:0.1\ttest results:0.6388888888888888\n",
      "margin:0.2\ttest results:0.6527777777777778\n",
      "margin:0.3\ttest results:0.6666666666666666\n",
      "margin:0.4\ttest results:0.6388888888888888\n",
      "margin:0.5\ttest results:0.6388888888888888\n"
     ]
    },
    {
     "data": {
      "text/plain": [
       "0.6666666666666666"
      ]
     },
     "execution_count": 8,
     "metadata": {},
     "output_type": "execute_result"
    }
   ],
   "source": [
    "run_pam({'dataset': 'breast', 'seed': 0, 'e0': 0.1, 'e1': 0.3, 'lr': 0.001, 'test_size': 0.25, \n",
    "         'normalize': True, 'equalize_prior': False, 'verbose': True})"
   ]
  },
  {
   "cell_type": "code",
   "execution_count": 9,
   "metadata": {},
   "outputs": [
    {
     "name": "stdout",
     "output_type": "stream",
     "text": [
      "margin:0.0\ttrain_acc:0.5436133333333334\n",
      "margin:0.1\ttrain_acc:0.6170399999999999\n",
      "margin:0.2\ttrain_acc:0.6298133333333333\n",
      "margin:0.3\ttrain_acc:0.6347333333333334\n",
      "margin:0.4\ttrain_acc:0.6361333333333333\n",
      "margin:0.5\ttrain_acc:0.6377333333333334\n",
      "margin:0.0\ttest results:0.544\n",
      "margin:0.1\ttest results:0.696\n",
      "margin:0.2\ttest results:0.66\n",
      "margin:0.3\ttest results:0.672\n",
      "margin:0.4\ttest results:0.66\n",
      "margin:0.5\ttest results:0.668\n"
     ]
    },
    {
     "data": {
      "text/plain": [
       "0.696"
      ]
     },
     "execution_count": 9,
     "metadata": {},
     "output_type": "execute_result"
    }
   ],
   "source": [
    "run_pam({'dataset': 'german', 'seed': 0, 'e0': 0.1, 'e1': 0.3, 'lr': 0.001, 'test_size': 0.25, \n",
    "         'normalize': True, 'equalize_prior': False, 'verbose': True})"
   ]
  },
  {
   "cell_type": "code",
   "execution_count": 4,
   "metadata": {},
   "outputs": [
    {
     "name": "stdout",
     "output_type": "stream",
     "text": [
      "margin:0.0\ttrain_acc:0.69604\n",
      "margin:0.1\ttrain_acc:0.77376\n",
      "margin:0.2\ttrain_acc:0.7804799999999997\n",
      "margin:0.3\ttrain_acc:0.7819066666666669\n",
      "margin:0.4\ttrain_acc:0.7835333333333331\n",
      "margin:0.5\ttrain_acc:0.7838666666666667\n",
      "margin:0.0\ttest results:0.656\n",
      "margin:0.1\ttest results:0.744\n",
      "margin:0.2\ttest results:0.772\n",
      "margin:0.3\ttest results:0.768\n",
      "margin:0.4\ttest results:0.76\n",
      "margin:0.5\ttest results:0.764\n"
     ]
    },
    {
     "data": {
      "text/plain": [
       "0.772"
      ]
     },
     "execution_count": 4,
     "metadata": {},
     "output_type": "execute_result"
    }
   ],
   "source": [
    "run_pam({'dataset': 'german', 'seed': 0, 'e0': 0, 'e1': 0, 'lr': 0.001, 'test_size': 0.25, \n",
    "         'normalize': True, 'equalize_prior': False, 'verbose': True})"
   ]
  },
  {
   "cell_type": "code",
   "execution_count": 5,
   "metadata": {
    "pycharm": {
     "name": "#%%\n"
    }
   },
   "outputs": [
    {
     "name": "stdout",
     "output_type": "stream",
     "text": [
      "margin:0.0\ttrain_acc:0.7815859030837002\n",
      "margin:0.1\ttrain_acc:0.8668281938325993\n",
      "margin:0.2\ttrain_acc:0.8738766519823791\n",
      "margin:0.3\ttrain_acc:0.874933920704846\n",
      "margin:0.4\ttrain_acc:0.8749779735682821\n",
      "margin:0.5\ttrain_acc:0.8742731277533042\n",
      "margin:0.0\ttest results:0.7894736842105263\n",
      "margin:0.1\ttest results:0.8421052631578947\n",
      "margin:0.2\ttest results:0.8421052631578947\n",
      "margin:0.3\ttest results:0.8421052631578947\n",
      "margin:0.4\ttest results:0.8421052631578947\n",
      "margin:0.5\ttest results:0.8421052631578947\n"
     ]
    },
    {
     "data": {
      "text/plain": [
       "0.8421052631578947"
      ]
     },
     "execution_count": 5,
     "metadata": {},
     "output_type": "execute_result"
    }
   ],
   "source": [
    "run_pam({'dataset': 'heart', 'seed': 0, 'e0': 0, 'e1': 0, 'lr': 0.001, 'test_size': 0.25, \n",
    "         'normalize': True, 'equalize_prior': False, 'verbose': True})"
   ]
  },
  {
   "cell_type": "code",
   "execution_count": 6,
   "metadata": {},
   "outputs": [
    {
     "name": "stdout",
     "output_type": "stream",
     "text": [
      "margin:0.0\ttrain_acc:0.7494155844155844\n",
      "margin:0.1\ttrain_acc:0.8603896103896105\n",
      "margin:0.2\ttrain_acc:0.8635064935064934\n",
      "margin:0.3\ttrain_acc:0.8638311688311687\n",
      "margin:0.4\ttrain_acc:0.8638744588744587\n",
      "margin:0.5\ttrain_acc:0.8638961038961038\n",
      "margin:0.0\ttest results:0.7343073593073594\n",
      "margin:0.1\ttest results:0.8468614718614719\n",
      "margin:0.2\ttest results:0.8457792207792207\n",
      "margin:0.3\ttest results:0.8511904761904762\n",
      "margin:0.4\ttest results:0.8474025974025974\n",
      "margin:0.5\ttest results:0.8484848484848485\n"
     ]
    },
    {
     "data": {
      "text/plain": [
       "0.8511904761904762"
      ]
     },
     "execution_count": 6,
     "metadata": {},
     "output_type": "execute_result"
    }
   ],
   "source": [
    "run_pam({'dataset': 'image', 'seed': 0, 'e0': 0, 'e1': 0, 'lr': 0.001, 'test_size': 0.8, \n",
    "         'normalize': True, 'equalize_prior': False, 'verbose': True})"
   ]
  },
  {
   "cell_type": "code",
   "execution_count": null,
   "metadata": {},
   "outputs": [],
   "source": []
  }
 ],
 "metadata": {
  "kernelspec": {
   "display_name": "PyCharm (learning-with-noisy-labels)",
   "language": "python",
   "name": "pycharm-72b00ad9"
  },
  "language_info": {
   "codemirror_mode": {
    "name": "ipython",
    "version": 3
   },
   "file_extension": ".py",
   "mimetype": "text/x-python",
   "name": "python",
   "nbconvert_exporter": "python",
   "pygments_lexer": "ipython3",
   "version": "3.6.8"
  },
  "pycharm": {
   "stem_cell": {
    "cell_type": "raw",
    "metadata": {
     "collapsed": false
    },
    "source": []
   }
  }
 },
 "nbformat": 4,
 "nbformat_minor": 1
}
